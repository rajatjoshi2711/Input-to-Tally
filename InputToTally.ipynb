{
 "cells": [
  {
   "cell_type": "markdown",
   "id": "hawaiian-edition",
   "metadata": {},
   "source": [
    "# Installation"
   ]
  },
  {
   "cell_type": "code",
   "execution_count": 3,
   "id": "accompanied-supply",
   "metadata": {},
   "outputs": [
    {
     "name": "stdout",
     "output_type": "stream",
     "text": [
      "E:\\Clients\\TOSBS\\Akshay Adamuthe\\CData.Python.Tally\\win\\Python37\\64\n"
     ]
    }
   ],
   "source": [
    "cd E:\\Clients\\TOSBS\\Akshay Adamuthe\\CData.Python.Tally\\win\\Python37\\64"
   ]
  },
  {
   "cell_type": "code",
   "execution_count": 2,
   "id": "diagnostic-appearance",
   "metadata": {},
   "outputs": [
    {
     "name": "stdout",
     "output_type": "stream",
     "text": [
      "Processing e:\\clients\\tosbs\\akshay adamuthe\\cdata.python.tally\\win\\python37\\64\\cdata_tally_connector-20.0.7654-cp37-cp37m-win_amd64.whlNote: you may need to restart the kernel to use updated packages.\n",
      "Installing collected packages: cdata-tally-connector\n",
      "Successfully installed cdata-tally-connector-20.0.7654\n",
      "\n"
     ]
    }
   ],
   "source": [
    "pip install cdata_tally_connector-20.0.7654-cp37-cp37m-win_amd64.whl"
   ]
  },
  {
   "cell_type": "markdown",
   "id": "registered-clearance",
   "metadata": {},
   "source": [
    "# Init"
   ]
  },
  {
   "cell_type": "code",
   "execution_count": 1,
   "id": "latest-poster",
   "metadata": {},
   "outputs": [],
   "source": [
    "import cdata.tally as mod"
   ]
  },
  {
   "cell_type": "code",
   "execution_count": 3,
   "id": "incident-concern",
   "metadata": {},
   "outputs": [
    {
     "data": {
      "text/plain": [
       "<cdata.tally.Connection at 0x284590e5810>"
      ]
     },
     "execution_count": 3,
     "metadata": {},
     "output_type": "execute_result"
    }
   ],
   "source": [
    "mod.connect(\"Url='http://localhost:9000'\")"
   ]
  },
  {
   "cell_type": "code",
   "execution_count": null,
   "id": "advanced-following",
   "metadata": {},
   "outputs": [],
   "source": []
  }
 ],
 "metadata": {
  "kernelspec": {
   "display_name": "Python 3",
   "language": "python",
   "name": "python3"
  },
  "language_info": {
   "codemirror_mode": {
    "name": "ipython",
    "version": 3
   },
   "file_extension": ".py",
   "mimetype": "text/x-python",
   "name": "python",
   "nbconvert_exporter": "python",
   "pygments_lexer": "ipython3",
   "version": "3.7.0"
  }
 },
 "nbformat": 4,
 "nbformat_minor": 5
}
